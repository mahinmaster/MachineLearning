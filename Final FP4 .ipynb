{
 "cells": [
  {
   "cell_type": "markdown",
   "metadata": {},
   "source": [
    "<center> <h2> DS 3000 - Fall 2020</h2> </center>\n",
    "<center> <h3> DS Report </h3> </center>\n"
   ]
  },
  {
   "cell_type": "markdown",
   "metadata": {},
   "source": [
    "<center> <h3> How far will the AAPL fall from the tree </h3> </center>\n",
    "<center><h4>Harris Lussenhop, Mahin Master, Gary Shetye</h4></center>\n"
   ]
  },
  {
   "cell_type": "markdown",
   "metadata": {},
   "source": [
    "  "
   ]
  },
  {
   "cell_type": "markdown",
   "metadata": {},
   "source": [
    "<hr style=\"height:2px; border:none; color:black; background-color:black;\">"
   ]
  },
  {
   "cell_type": "markdown",
   "metadata": {},
   "source": [
    "#### Executive Summary:\n",
    "\n",
    "This project uses historical economic indicators to predict the closing price of the stock APPL. Predicting a stock’s price can be very financially beneficial for individuals and institutions; and therefore, this project aims to build a connection between economics and the stock market. Our data is acquired from the United States bureau of statistics. Specifically, we used the FRED API to download csv files of the historical data. We are using several different variables as our independent variables such as CPI, unemployment rate and opening price of APPL. Using these independent variables, the dependent variable of the closing price of APPL will be predicted. We are using regression analysis to solve this supervised ML problem. Through model optimization, we have optimized the regression model and obtained results.\n"
   ]
  },
  {
   "cell_type": "markdown",
   "metadata": {},
   "source": [
    "<hr style=\"height:2px; border:none; color:black; background-color:black;\">"
   ]
  },
  {
   "cell_type": "markdown",
   "metadata": {},
   "source": [
    "## Outline\n",
    "1. <a href='#1'>INTRODUCTION</a>\n",
    "2. <a href='#2'>METHOD</a>\n",
    "3. <a href='#3'>RESULTS</a>\n",
    "4. <a href='#4'>DISCUSSION</a>"
   ]
  },
  {
   "cell_type": "markdown",
   "metadata": {},
   "source": [
    "<a id=\"1\"></a>\n",
    "<hr style=\"height:2px; border:none; color:black; background-color:black;\">"
   ]
  },
  {
   "cell_type": "markdown",
   "metadata": {},
   "source": [
    "## 1. INTRODUCTION"
   ]
  },
  {
   "cell_type": "markdown",
   "metadata": {},
   "source": [
    "**Problem Statement:**\n",
    "\n",
    "In our project, we analyze the predictive potential of different economic features on the price of the stock APPL. The economy has profound impacts on the stock market and understanding these connections can increase financial cognizance in relation to the stock market. Specifically, understanding the differences in how some economic characteristics compare to others within the realm of this specific stock can provide insight into what economic factors are affecting the performance of APPL.\n",
    "\n",
    "We are using different economic indicators within our dataset to compare which indicators prove more related to the stock price of APPL. By analyzing the weights of each variable, conclusions can be made on which aspect of the economy on a whole is more relevant when viewing the stock price of APPL. We sought to compare the results of four regression algorithms to predict this price.\n",
    "\n",
    "**Significance of the Problem**\n",
    "\n",
    "The stock market is a means of investment for several individuals and institutions. Understanding the relationship between the economic environment and the stock market can be very financially viable for investment purposes. Also, studying this particular stock can bring insight into the company structure and how this business can be externally affected. These conclusions can then be introduced into other companies within the same sector. The stock market has always been a lucrative field and this \n",
    "\n",
    "**Previous Work on the Topics**\n",
    "\n",
    "There have been several research studies connecting machine learning with the stock market. Several studies make the connection between the economy as well. In the paper, Machine Learning Stock Market Prediction Studies: Review and Research Directions, Troy J. Strader, John J. Rozycki, Thomas H. Root and Yu-Hsiang (John) Huang, identify several uses of machine learning within the stock market. In fact, most financial companies are already using software that incorporates AI techniques, as stated in the paper. However, the software mostly uses historical data of the company to make predictions about future prices of the stock. That is because company data is often most used when making these predictions. However, our paper makes the connection of economic indicators to this specific stock.\n",
    "\n",
    "**Research Questions**\n",
    "\n",
    "Given the aforementioned problem and its importance, we set out to tackle the following questions:\n",
    "- Of the economic indicators that are used as feature variables, what is the most relevant in predicting/altering the closing price of this particular stock?\n",
    "- Of the economic indicators that are used as feature variables, what is the most relevant in predicting/altering the closing price of this particular stock? \n",
    "- Is one feature variable more important to look at than another feature variable? \n",
    "- Which economic indicator is most related to the closing price of this particular stock? \n",
    "- Can this be used to formulate conclusions on other stocks other than just Apple? \n",
    "- How can we use the information from the importance of each economic indicator to make broader conclusions about the stock market's relationship to economic indicators?\n",
    "- Which regression model fits the historical data for AAPL?\n",
    "\n",
    "**Hypotheses**\n",
    "\n",
    "- **Project Hypothesis**\n",
    "    - H0: The closing price of AAPL and macroeconomic data have no relationship.\n",
    "    - H1: The closing price of AAPL and macroeconomic data have a relationship.\n",
    "\n",
    "- **Tests Hypothesis**\n",
    "    - H0: Support Vector Regression will have the highest prediction accuracy.\n",
    "    - H1: Support Vector Regression will not have the highest prediction accuracy.\n",
    "    "
   ]
  },
  {
   "cell_type": "markdown",
   "metadata": {},
   "source": [
    "<a id=\"2\"></a>\n",
    "<hr style=\"height:2px; border:none; color:black; background-color:black;\">"
   ]
  },
  {
   "cell_type": "markdown",
   "metadata": {},
   "source": [
    "## 2. METHOD"
   ]
  },
  {
   "cell_type": "markdown",
   "metadata": {},
   "source": [
    "**DATA ACQUISITION**"
   ]
  },
  {
   "cell_type": "markdown",
   "metadata": {},
   "source": [
    "**DATAFRAME**"
   ]
  },
  {
   "cell_type": "code",
   "execution_count": 1,
   "metadata": {},
   "outputs": [
    {
     "data": {
      "text/html": [
       "<div>\n",
       "<style scoped>\n",
       "    .dataframe tbody tr th:only-of-type {\n",
       "        vertical-align: middle;\n",
       "    }\n",
       "\n",
       "    .dataframe tbody tr th {\n",
       "        vertical-align: top;\n",
       "    }\n",
       "\n",
       "    .dataframe thead th {\n",
       "        text-align: right;\n",
       "    }\n",
       "</style>\n",
       "<table border=\"1\" class=\"dataframe\">\n",
       "  <thead>\n",
       "    <tr style=\"text-align: right;\">\n",
       "      <th></th>\n",
       "      <th>AAPL Close Price</th>\n",
       "      <th>AAPL Open Price</th>\n",
       "      <th>NASDAQ</th>\n",
       "      <th>DJIA</th>\n",
       "      <th>S&amp;P 500</th>\n",
       "      <th>Real GDP ($B)</th>\n",
       "      <th>Unemployment Rate</th>\n",
       "      <th>Interest Rate</th>\n",
       "      <th>CPI</th>\n",
       "    </tr>\n",
       "    <tr>\n",
       "      <th>Date</th>\n",
       "      <th></th>\n",
       "      <th></th>\n",
       "      <th></th>\n",
       "      <th></th>\n",
       "      <th></th>\n",
       "      <th></th>\n",
       "      <th></th>\n",
       "      <th></th>\n",
       "      <th></th>\n",
       "    </tr>\n",
       "  </thead>\n",
       "  <tbody>\n",
       "    <tr>\n",
       "      <td>1984-09-07</td>\n",
       "      <td>0.42388</td>\n",
       "      <td>0.42388</td>\n",
       "      <td>251.68</td>\n",
       "      <td>0.00</td>\n",
       "      <td>0.00</td>\n",
       "      <td>7189.896</td>\n",
       "      <td>7.5</td>\n",
       "      <td>11.56</td>\n",
       "      <td>44.089664</td>\n",
       "    </tr>\n",
       "    <tr>\n",
       "      <td>1984-09-10</td>\n",
       "      <td>0.42134</td>\n",
       "      <td>0.42388</td>\n",
       "      <td>250.53</td>\n",
       "      <td>0.00</td>\n",
       "      <td>0.00</td>\n",
       "      <td>7189.896</td>\n",
       "      <td>7.5</td>\n",
       "      <td>11.36</td>\n",
       "      <td>44.089664</td>\n",
       "    </tr>\n",
       "    <tr>\n",
       "      <td>1984-09-11</td>\n",
       "      <td>0.42902</td>\n",
       "      <td>0.42516</td>\n",
       "      <td>251.80</td>\n",
       "      <td>0.00</td>\n",
       "      <td>0.00</td>\n",
       "      <td>7189.896</td>\n",
       "      <td>7.5</td>\n",
       "      <td>11.23</td>\n",
       "      <td>44.089664</td>\n",
       "    </tr>\n",
       "    <tr>\n",
       "      <td>1984-09-12</td>\n",
       "      <td>0.41618</td>\n",
       "      <td>0.42902</td>\n",
       "      <td>251.45</td>\n",
       "      <td>0.00</td>\n",
       "      <td>0.00</td>\n",
       "      <td>7189.896</td>\n",
       "      <td>7.5</td>\n",
       "      <td>11.66</td>\n",
       "      <td>44.089664</td>\n",
       "    </tr>\n",
       "    <tr>\n",
       "      <td>1984-09-13</td>\n",
       "      <td>0.43927</td>\n",
       "      <td>0.43927</td>\n",
       "      <td>253.34</td>\n",
       "      <td>0.00</td>\n",
       "      <td>0.00</td>\n",
       "      <td>7189.896</td>\n",
       "      <td>7.5</td>\n",
       "      <td>11.55</td>\n",
       "      <td>44.089664</td>\n",
       "    </tr>\n",
       "    <tr>\n",
       "      <td>...</td>\n",
       "      <td>...</td>\n",
       "      <td>...</td>\n",
       "      <td>...</td>\n",
       "      <td>...</td>\n",
       "      <td>...</td>\n",
       "      <td>...</td>\n",
       "      <td>...</td>\n",
       "      <td>...</td>\n",
       "      <td>...</td>\n",
       "    </tr>\n",
       "    <tr>\n",
       "      <td>2020-12-02</td>\n",
       "      <td>NaN</td>\n",
       "      <td>NaN</td>\n",
       "      <td>12349.37</td>\n",
       "      <td>29883.79</td>\n",
       "      <td>3669.01</td>\n",
       "      <td>18583.501</td>\n",
       "      <td>6.9</td>\n",
       "      <td>0.09</td>\n",
       "      <td>109.814908</td>\n",
       "    </tr>\n",
       "    <tr>\n",
       "      <td>2020-12-03</td>\n",
       "      <td>NaN</td>\n",
       "      <td>NaN</td>\n",
       "      <td>12377.18</td>\n",
       "      <td>29969.52</td>\n",
       "      <td>3666.72</td>\n",
       "      <td>18583.501</td>\n",
       "      <td>6.9</td>\n",
       "      <td>0.09</td>\n",
       "      <td>109.814908</td>\n",
       "    </tr>\n",
       "    <tr>\n",
       "      <td>2020-12-04</td>\n",
       "      <td>NaN</td>\n",
       "      <td>NaN</td>\n",
       "      <td>12464.23</td>\n",
       "      <td>30218.26</td>\n",
       "      <td>3699.12</td>\n",
       "      <td>18583.501</td>\n",
       "      <td>6.9</td>\n",
       "      <td>0.09</td>\n",
       "      <td>109.814908</td>\n",
       "    </tr>\n",
       "    <tr>\n",
       "      <td>2020-12-07</td>\n",
       "      <td>NaN</td>\n",
       "      <td>NaN</td>\n",
       "      <td>12519.95</td>\n",
       "      <td>30069.79</td>\n",
       "      <td>3691.96</td>\n",
       "      <td>18583.501</td>\n",
       "      <td>6.9</td>\n",
       "      <td>0.09</td>\n",
       "      <td>109.814908</td>\n",
       "    </tr>\n",
       "    <tr>\n",
       "      <td>2020-12-08</td>\n",
       "      <td>NaN</td>\n",
       "      <td>NaN</td>\n",
       "      <td>12582.77</td>\n",
       "      <td>30173.88</td>\n",
       "      <td>3702.25</td>\n",
       "      <td>18583.501</td>\n",
       "      <td>6.9</td>\n",
       "      <td>0.09</td>\n",
       "      <td>109.814908</td>\n",
       "    </tr>\n",
       "  </tbody>\n",
       "</table>\n",
       "<p>13003 rows × 9 columns</p>\n",
       "</div>"
      ],
      "text/plain": [
       "            AAPL Close Price  AAPL Open Price    NASDAQ      DJIA  S&P 500  \\\n",
       "Date                                                                         \n",
       "1984-09-07           0.42388          0.42388    251.68      0.00     0.00   \n",
       "1984-09-10           0.42134          0.42388    250.53      0.00     0.00   \n",
       "1984-09-11           0.42902          0.42516    251.80      0.00     0.00   \n",
       "1984-09-12           0.41618          0.42902    251.45      0.00     0.00   \n",
       "1984-09-13           0.43927          0.43927    253.34      0.00     0.00   \n",
       "...                      ...              ...       ...       ...      ...   \n",
       "2020-12-02               NaN              NaN  12349.37  29883.79  3669.01   \n",
       "2020-12-03               NaN              NaN  12377.18  29969.52  3666.72   \n",
       "2020-12-04               NaN              NaN  12464.23  30218.26  3699.12   \n",
       "2020-12-07               NaN              NaN  12519.95  30069.79  3691.96   \n",
       "2020-12-08               NaN              NaN  12582.77  30173.88  3702.25   \n",
       "\n",
       "            Real GDP ($B)  Unemployment Rate  Interest Rate         CPI  \n",
       "Date                                                                     \n",
       "1984-09-07       7189.896                7.5          11.56   44.089664  \n",
       "1984-09-10       7189.896                7.5          11.36   44.089664  \n",
       "1984-09-11       7189.896                7.5          11.23   44.089664  \n",
       "1984-09-12       7189.896                7.5          11.66   44.089664  \n",
       "1984-09-13       7189.896                7.5          11.55   44.089664  \n",
       "...                   ...                ...            ...         ...  \n",
       "2020-12-02      18583.501                6.9           0.09  109.814908  \n",
       "2020-12-03      18583.501                6.9           0.09  109.814908  \n",
       "2020-12-04      18583.501                6.9           0.09  109.814908  \n",
       "2020-12-07      18583.501                6.9           0.09  109.814908  \n",
       "2020-12-08      18583.501                6.9           0.09  109.814908  \n",
       "\n",
       "[13003 rows x 9 columns]"
      ]
     },
     "execution_count": 1,
     "metadata": {},
     "output_type": "execute_result"
    }
   ],
   "source": [
    "from fredapi import Fred\n",
    "\n",
    "# One dataset that our group is using is financial data that is found on the Federal Reserve Bank of St. Louis' (FRED) API using the key below.\n",
    "fred = Fred(api_key='f8da6f16ec7cbdf3d2817026ee34b3fb')\n",
    "\n",
    "import pandas as pd\n",
    "\n",
    "# Since we have multiple datasets we need to get out of FRED we use a dict where the key is what the row will be named on our dataframe, and the value cooresponds to the field we will give to the FRED API\n",
    "# reqest data from FRED using fred.get_series()\n",
    "data_to_import = {\"NASDAQ\":\"NASDAQCOM\", \"DJIA\":\"DJIA\", \"S&P 500\":\"SP500\", \"Real GDP ($B)\":\"GDPC1\", \"Unemployment Rate\":\"UNRATE\", \"Interest Rate\":\"DFF\", \"CPI\":\"USACPIALLMINMEI\"}\n",
    "\n",
    "nasdaq_series = fred.get_series('NASDAQCOM')\n",
    "df = pd.DataFrame(nasdaq_series)\n",
    "df.index.name = \"Date\"\n",
    "df.rename(columns = {0: \"NASDAQ\"}, inplace=True)\n",
    "\n",
    "# Below we construct a dataframe with the data from FRED\n",
    "for label, series in data_to_import.items():\n",
    "    data = fred.get_series(series)\n",
    "    df[label] = data\n",
    "\n",
    "# The Update_data function cleans our new dataframe\n",
    "# Since some values in our dataframe are recorded daily, monthly, quarterly etc. we need to substitute valuesd onto dates where no new data is recorded for a certain day, but had been recorded on a day at the beginning of the month, quarter etc.\n",
    "# df: our dataframe\n",
    "# base: the column of the dataframe that won't change throughtout, the data for this column is recorded daily and starts at the earlierst data in our data.\n",
    "def update_data(df, base, add):\n",
    "    temp_gdp = 0\n",
    "    df = df.reset_index()\n",
    "    for i in range(len(df)):\n",
    "        if(pd.notna(df.loc[i,base])):\n",
    "            if(pd.notna(df.loc[i,add])):\n",
    "                temp_gdp = df.loc[i,add]\n",
    "            else:\n",
    "                df.loc[i,add] = temp_gdp\n",
    "    df = df.set_index('Date')\n",
    "    return df\n",
    "\n",
    "for label, series in data_to_import.items():\n",
    "    df = update_data(df, \"NASDAQ\", label)\n",
    "    \n",
    "#next we read data from the stock prices of a certain company, in this case apple which is incluided in a stock market dataset we obtained from kaggle\n",
    "aapl = pd.read_csv('https://raw.githubusercontent.com/hlussenhop/DS3000-data/main/aapl.csv', index_col = \"Date\", error_bad_lines=False)\n",
    "aapl.rename(columns = {\"Open\": \"AAPL Open Price\"}, inplace = True)\n",
    "aapl = aapl[[\"AAPL Open Price\"]]\n",
    "aapl.index = pd.to_datetime(aapl.index)\n",
    "aapl\n",
    "\n",
    "# Merge the opening price of apple stock on the main dataframe\n",
    "df = pd.merge(aapl, df, on=\"Date\", how = \"outer\")\n",
    "\n",
    "# get the closing stock prices of apple stock\n",
    "aapl = pd.read_csv('https://raw.githubusercontent.com/hlussenhop/DS3000-data/main/aapl.csv', index_col = \"Date\", error_bad_lines=False)\n",
    "aapl.rename(columns = {\"Close\": \"AAPL Close Price\"}, inplace = True)\n",
    "aapl = aapl[[\"AAPL Close Price\"]]\n",
    "aapl.index = pd.to_datetime(aapl.index)\n",
    "aapl\n",
    "\n",
    "# Merge the closing price of apple stock on the main dataframe\n",
    "df = pd.merge(aapl, df, on=\"Date\", how = \"outer\")\n",
    "\n",
    "df"
   ]
  },
  {
   "cell_type": "markdown",
   "metadata": {},
   "source": [
    "### 2.1. Data Acquisition\n",
    "\n",
    "\n",
    "We had to source our data from two separate sources. The stock prices for Apple (AAPL) came from a very large dataset of many stock prices over time. The macroeconomic data came from FREDAPI which is a huge repository of public financial and social data. We used seven of the thousands of datasets FREDAPI has.\n",
    "\n",
    "https://www.kaggle.com/borismarjanovic/price-volume-data-for-all-us-stocks-etfs\n",
    "\n",
    "We combined these data into a dataframe with a target column (AAPL closing price) and eight feature columns. These features describe the current economic state in America. For example, high interest rates mean that the government needs growth to slow a little bit, while Consumer Price Index (CPI) can be used to determine the growth of the average burden on consumers to purchase goods, also known as inflation. The rows represent the period in time in which the data were collected.\n",
    "\n",
    "As you can see in the DataFrame above, there are 8 features and 1 target.\n",
    "\n"
   ]
  },
  {
   "cell_type": "markdown",
   "metadata": {},
   "source": [
    "### 2.2. Data Analysis\n",
    "\n",
    "**Dependent Variable**\n",
    "\n",
    "AAPL Close Price - The closing price of Apple stock on the given day\n",
    "\n",
    "**Independent Variables**\n",
    "- AAPL Open Price - The opening price of Apple stock on the given day\n",
    "- NASDAQ - Composite Stock Index of many selective companies\n",
    "- DJIA - Index of 30 large listed companies\n",
    "- S&P 500 - Index of the 500 largest listed companies\n",
    "- Real GDP ($B) - the Gross Domestic Product adjusted for inflation, measures productivity of the country\n",
    "- Unemployment Rate - The National Unemployment rate, measures the percentage of workers who are unemployed\n",
    "- Interest Rate, The Federal Reserve Interest Rate, measures added liabilities on loans\n",
    "- CPI - Consumer Price Index, measures inflation\n",
    "\n",
    "In terms of our hypothesis, our independent variable is the value of economic indicators over time, and our dependent variable is stock prices, for this project in particular we will be looking at apple (AAPL) stock prices. Our prediction target is specifically the closing price of the stock ticker AAPL on any given day. This price is a continuous variable and we’d like to predict a value for the stock’s magnitude. The determining factor for the algorithm will be whether or not we find that one or more of our features have little to no correlation with the target. We currently have eight features which are all quantitative, representing some aspect of the economy. This is a supervised machine learning problem because we have training features and targets that are taken from real economic and stock datasets, and this specific problem is regression instead of classification because our target that we are predicting is a continuous numerical value. Lastly, we are planning on using several different regression algorithms including *Ridge, Lasso, SVM Regressor, and Linear Regression algorithms*. These are all linear models, each which slightly alter the features (suppression or correlated variables, shrinkage, etc.) in different ways. Ridge will take into account that financial data is almost always correlated. Lasso will help condense the data into what is important with the selected features. MLR will be the baseline for these two tests althoughw we expect the results to be similar. We also wanted to test SVM as they used to be the best regression model. We compared the accuracy of each of these algorithms and use the best one to test our hypothesis."
   ]
  },
  {
   "cell_type": "markdown",
   "metadata": {},
   "source": [
    "<a id=\"3\"></a>\n",
    "<hr style=\"height:2px; border:none; color:black; background-color:black;\">"
   ]
  },
  {
   "cell_type": "markdown",
   "metadata": {},
   "source": [
    "## 3. RESULTS"
   ]
  },
  {
   "cell_type": "markdown",
   "metadata": {},
   "source": [
    "### 3.1. Data Wrangling"
   ]
  },
  {
   "cell_type": "markdown",
   "metadata": {},
   "source": [
    "### Simple Data Cleaning"
   ]
  },
  {
   "cell_type": "code",
   "execution_count": 3,
   "metadata": {},
   "outputs": [
    {
     "data": {
      "text/html": [
       "<div>\n",
       "<style scoped>\n",
       "    .dataframe tbody tr th:only-of-type {\n",
       "        vertical-align: middle;\n",
       "    }\n",
       "\n",
       "    .dataframe tbody tr th {\n",
       "        vertical-align: top;\n",
       "    }\n",
       "\n",
       "    .dataframe thead th {\n",
       "        text-align: right;\n",
       "    }\n",
       "</style>\n",
       "<table border=\"1\" class=\"dataframe\">\n",
       "  <thead>\n",
       "    <tr style=\"text-align: right;\">\n",
       "      <th></th>\n",
       "      <th>Date</th>\n",
       "      <th>AAPL Close Price</th>\n",
       "      <th>AAPL Open Price</th>\n",
       "      <th>NASDAQ</th>\n",
       "      <th>DJIA</th>\n",
       "      <th>S&amp;P 500</th>\n",
       "      <th>Real GDP ($B)</th>\n",
       "      <th>Unemployment Rate</th>\n",
       "      <th>Interest Rate</th>\n",
       "      <th>CPI</th>\n",
       "    </tr>\n",
       "  </thead>\n",
       "  <tbody>\n",
       "    <tr>\n",
       "      <td>0</td>\n",
       "      <td>2010-12-06</td>\n",
       "      <td>40.998</td>\n",
       "      <td>40.792</td>\n",
       "      <td>2594.92</td>\n",
       "      <td>11362.19</td>\n",
       "      <td>1223.12</td>\n",
       "      <td>15750.625</td>\n",
       "      <td>9.3</td>\n",
       "      <td>0.18</td>\n",
       "      <td>92.473958</td>\n",
       "    </tr>\n",
       "    <tr>\n",
       "      <td>1</td>\n",
       "      <td>2010-12-07</td>\n",
       "      <td>40.752</td>\n",
       "      <td>41.477</td>\n",
       "      <td>2598.49</td>\n",
       "      <td>11359.16</td>\n",
       "      <td>1223.75</td>\n",
       "      <td>15750.625</td>\n",
       "      <td>9.3</td>\n",
       "      <td>0.17</td>\n",
       "      <td>92.473958</td>\n",
       "    </tr>\n",
       "    <tr>\n",
       "      <td>2</td>\n",
       "      <td>2010-12-08</td>\n",
       "      <td>41.111</td>\n",
       "      <td>40.950</td>\n",
       "      <td>2609.16</td>\n",
       "      <td>11372.48</td>\n",
       "      <td>1228.28</td>\n",
       "      <td>15750.625</td>\n",
       "      <td>9.3</td>\n",
       "      <td>0.17</td>\n",
       "      <td>92.473958</td>\n",
       "    </tr>\n",
       "    <tr>\n",
       "      <td>3</td>\n",
       "      <td>2010-12-09</td>\n",
       "      <td>40.948</td>\n",
       "      <td>41.293</td>\n",
       "      <td>2616.67</td>\n",
       "      <td>11370.06</td>\n",
       "      <td>1233.00</td>\n",
       "      <td>15750.625</td>\n",
       "      <td>9.3</td>\n",
       "      <td>0.16</td>\n",
       "      <td>92.473958</td>\n",
       "    </tr>\n",
       "    <tr>\n",
       "      <td>4</td>\n",
       "      <td>2010-12-10</td>\n",
       "      <td>41.050</td>\n",
       "      <td>40.935</td>\n",
       "      <td>2637.54</td>\n",
       "      <td>11410.32</td>\n",
       "      <td>1240.40</td>\n",
       "      <td>15750.625</td>\n",
       "      <td>9.3</td>\n",
       "      <td>0.16</td>\n",
       "      <td>92.473958</td>\n",
       "    </tr>\n",
       "    <tr>\n",
       "      <td>...</td>\n",
       "      <td>...</td>\n",
       "      <td>...</td>\n",
       "      <td>...</td>\n",
       "      <td>...</td>\n",
       "      <td>...</td>\n",
       "      <td>...</td>\n",
       "      <td>...</td>\n",
       "      <td>...</td>\n",
       "      <td>...</td>\n",
       "      <td>...</td>\n",
       "    </tr>\n",
       "    <tr>\n",
       "      <td>1742</td>\n",
       "      <td>2017-11-06</td>\n",
       "      <td>173.630</td>\n",
       "      <td>171.750</td>\n",
       "      <td>6786.44</td>\n",
       "      <td>23548.42</td>\n",
       "      <td>2591.13</td>\n",
       "      <td>17764.388</td>\n",
       "      <td>4.2</td>\n",
       "      <td>1.16</td>\n",
       "      <td>104.072282</td>\n",
       "    </tr>\n",
       "    <tr>\n",
       "      <td>1743</td>\n",
       "      <td>2017-11-07</td>\n",
       "      <td>174.180</td>\n",
       "      <td>173.290</td>\n",
       "      <td>6767.78</td>\n",
       "      <td>23557.23</td>\n",
       "      <td>2590.64</td>\n",
       "      <td>17764.388</td>\n",
       "      <td>4.2</td>\n",
       "      <td>1.16</td>\n",
       "      <td>104.072282</td>\n",
       "    </tr>\n",
       "    <tr>\n",
       "      <td>1744</td>\n",
       "      <td>2017-11-08</td>\n",
       "      <td>175.610</td>\n",
       "      <td>174.030</td>\n",
       "      <td>6789.12</td>\n",
       "      <td>23563.36</td>\n",
       "      <td>2594.38</td>\n",
       "      <td>17764.388</td>\n",
       "      <td>4.2</td>\n",
       "      <td>1.16</td>\n",
       "      <td>104.072282</td>\n",
       "    </tr>\n",
       "    <tr>\n",
       "      <td>1745</td>\n",
       "      <td>2017-11-09</td>\n",
       "      <td>175.250</td>\n",
       "      <td>174.480</td>\n",
       "      <td>6750.05</td>\n",
       "      <td>23461.94</td>\n",
       "      <td>2584.62</td>\n",
       "      <td>17764.388</td>\n",
       "      <td>4.2</td>\n",
       "      <td>1.16</td>\n",
       "      <td>104.072282</td>\n",
       "    </tr>\n",
       "    <tr>\n",
       "      <td>1746</td>\n",
       "      <td>2017-11-10</td>\n",
       "      <td>174.670</td>\n",
       "      <td>175.110</td>\n",
       "      <td>6750.94</td>\n",
       "      <td>23422.21</td>\n",
       "      <td>2582.30</td>\n",
       "      <td>17764.388</td>\n",
       "      <td>4.2</td>\n",
       "      <td>1.16</td>\n",
       "      <td>104.072282</td>\n",
       "    </tr>\n",
       "  </tbody>\n",
       "</table>\n",
       "<p>1747 rows × 10 columns</p>\n",
       "</div>"
      ],
      "text/plain": [
       "            Date  AAPL Close Price  AAPL Open Price   NASDAQ      DJIA  \\\n",
       "0     2010-12-06            40.998           40.792  2594.92  11362.19   \n",
       "1     2010-12-07            40.752           41.477  2598.49  11359.16   \n",
       "2     2010-12-08            41.111           40.950  2609.16  11372.48   \n",
       "3     2010-12-09            40.948           41.293  2616.67  11370.06   \n",
       "4     2010-12-10            41.050           40.935  2637.54  11410.32   \n",
       "...          ...               ...              ...      ...       ...   \n",
       "1742  2017-11-06           173.630          171.750  6786.44  23548.42   \n",
       "1743  2017-11-07           174.180          173.290  6767.78  23557.23   \n",
       "1744  2017-11-08           175.610          174.030  6789.12  23563.36   \n",
       "1745  2017-11-09           175.250          174.480  6750.05  23461.94   \n",
       "1746  2017-11-10           174.670          175.110  6750.94  23422.21   \n",
       "\n",
       "      S&P 500  Real GDP ($B)  Unemployment Rate  Interest Rate         CPI  \n",
       "0     1223.12      15750.625                9.3           0.18   92.473958  \n",
       "1     1223.75      15750.625                9.3           0.17   92.473958  \n",
       "2     1228.28      15750.625                9.3           0.17   92.473958  \n",
       "3     1233.00      15750.625                9.3           0.16   92.473958  \n",
       "4     1240.40      15750.625                9.3           0.16   92.473958  \n",
       "...       ...            ...                ...            ...         ...  \n",
       "1742  2591.13      17764.388                4.2           1.16  104.072282  \n",
       "1743  2590.64      17764.388                4.2           1.16  104.072282  \n",
       "1744  2594.38      17764.388                4.2           1.16  104.072282  \n",
       "1745  2584.62      17764.388                4.2           1.16  104.072282  \n",
       "1746  2582.30      17764.388                4.2           1.16  104.072282  \n",
       "\n",
       "[1747 rows x 10 columns]"
      ]
     },
     "execution_count": 3,
     "metadata": {},
     "output_type": "execute_result"
    }
   ],
   "source": [
    "# remove all rows with the value 0.0, or the value Nan\n",
    "# All of our columns sould not have the value 0.00 in them (cannot be a stock price of 0.0 etc.) some values were assigned as 0.0 in the update_data where it was not given for the certain date by FRED\n",
    "df = df[(df != 0).all(1)]\n",
    "df = df[(pd.notna(df)).all(1)]\n",
    "df"
   ]
  },
  {
   "cell_type": "markdown",
   "metadata": {},
   "source": [
    "### Feature Extraction\n",
    "\n",
    "For feature extraction we are calcuilating the percent change for each stock market index. We are then adding the percent change of each index as a new column  in our dataset."
   ]
  },
  {
   "cell_type": "code",
   "execution_count": 4,
   "metadata": {},
   "outputs": [],
   "source": [
    "# The pec_change() function calculates a series of percent change on a series object\n",
    "df['NASDAQ Percent Change'] = df['NASDAQ'].pct_change()\n",
    "df['DJIA Percent Change'] = df['DJIA'].pct_change()\n",
    "df['S&P 500 Perrcent Change'] = df['S&P 500'].pct_change()"
   ]
  },
  {
   "cell_type": "markdown",
   "metadata": {},
   "source": [
    "### Preprocessing\n",
    "We are preprocessing our data by spliting it into training and testing sets and then scaling it using MinMaxScalar."
   ]
  },
  {
   "cell_type": "code",
   "execution_count": 5,
   "metadata": {},
   "outputs": [],
   "source": [
    "#Set the index to a numerical index instead of the date\n",
    "df = df.reset_index(drop=True)"
   ]
  },
  {
   "cell_type": "code",
   "execution_count": 6,
   "metadata": {},
   "outputs": [],
   "source": [
    "#Split the dataset into a features dataframe, and a target series object\n",
    "def features_and_target(df):\n",
    "    return(df[['NASDAQ','DJIA','S&P 500','Real GDP ($B)', 'Unemployment Rate','Interest Rate','CPI']],df[['AAPL Close Price']].squeeze('columns'))"
   ]
  },
  {
   "cell_type": "code",
   "execution_count": 7,
   "metadata": {},
   "outputs": [],
   "source": [
    "features, target = features_and_target(df)"
   ]
  },
  {
   "cell_type": "code",
   "execution_count": 8,
   "metadata": {},
   "outputs": [],
   "source": [
    "from sklearn.model_selection import train_test_split\n",
    "from sklearn.preprocessing import MinMaxScaler"
   ]
  },
  {
   "cell_type": "code",
   "execution_count": 9,
   "metadata": {},
   "outputs": [],
   "source": [
    "# Compute training and testing sets with sklearn's train_test_split function\n",
    "X_train, X_test, y_train, y_test = train_test_split(features, target, random_state=3000)"
   ]
  },
  {
   "cell_type": "code",
   "execution_count": 10,
   "metadata": {},
   "outputs": [],
   "source": [
    "# Scale training and testing sets with sklearn's MinMaxScalar function\n",
    "scaler = MinMaxScaler().fit(X_train)\n",
    "X_train_scaled = scaler.transform(X_train)\n",
    "X_test_scaled = scaler.transform(X_test)"
   ]
  },
  {
   "cell_type": "markdown",
   "metadata": {},
   "source": [
    "### Feature Selection"
   ]
  },
  {
   "cell_type": "code",
   "execution_count": 11,
   "metadata": {},
   "outputs": [],
   "source": [
    "from sklearn.feature_selection import RFE\n",
    "from sklearn.tree import DecisionTreeRegressor"
   ]
  },
  {
   "cell_type": "code",
   "execution_count": 12,
   "metadata": {},
   "outputs": [
    {
     "name": "stdout",
     "output_type": "stream",
     "text": [
      "The features we have selected are:\n",
      "\tNASDAQ\n",
      "\tReal GDP ($B)\n",
      "\tUnemployment Rate\n",
      "\tCPI\n"
     ]
    }
   ],
   "source": [
    "# Selecting 4 features using the RFE featurre slection algorithm\n",
    "\n",
    "feature_selection = RFE(DecisionTreeRegressor(random_state = 3000), n_features_to_select = 4)\n",
    "feature_selection.fit(X_train_scaled, y_train)\n",
    "\n",
    "X_train_selected = feature_selection.transform(X_train_scaled)\n",
    "X_test_selected = feature_selection.transform(X_test_scaled)\n",
    "\n",
    "selected_features = [feature for feature, status in zip(features, feature_selection.get_support()) if status == True]\n",
    "\n",
    "print(\"The features we have selected are:\")\n",
    "for f in selected_features:\n",
    "    print('\\t' + f)"
   ]
  },
  {
   "cell_type": "code",
   "execution_count": 13,
   "metadata": {},
   "outputs": [],
   "source": [
    "X_train_selected, X_test_selected, y_train, y_test = train_test_split(df[selected_features], target, random_state=3000)"
   ]
  },
  {
   "cell_type": "markdown",
   "metadata": {},
   "source": [
    "### 3.2. Data Exploration\n"
   ]
  },
  {
   "cell_type": "code",
   "execution_count": 14,
   "metadata": {},
   "outputs": [
    {
     "data": {
      "text/html": [
       "<div>\n",
       "<style scoped>\n",
       "    .dataframe tbody tr th:only-of-type {\n",
       "        vertical-align: middle;\n",
       "    }\n",
       "\n",
       "    .dataframe tbody tr th {\n",
       "        vertical-align: top;\n",
       "    }\n",
       "\n",
       "    .dataframe thead th {\n",
       "        text-align: right;\n",
       "    }\n",
       "</style>\n",
       "<table border=\"1\" class=\"dataframe\">\n",
       "  <thead>\n",
       "    <tr style=\"text-align: right;\">\n",
       "      <th></th>\n",
       "      <th>Date</th>\n",
       "      <th>AAPL Close Price</th>\n",
       "      <th>AAPL Open Price</th>\n",
       "      <th>NASDAQ</th>\n",
       "      <th>DJIA</th>\n",
       "      <th>S&amp;P 500</th>\n",
       "      <th>Real GDP ($B)</th>\n",
       "      <th>Unemployment Rate</th>\n",
       "      <th>Interest Rate</th>\n",
       "      <th>CPI</th>\n",
       "    </tr>\n",
       "  </thead>\n",
       "  <tbody>\n",
       "    <tr>\n",
       "      <td>0</td>\n",
       "      <td>2010-12-06</td>\n",
       "      <td>40.998</td>\n",
       "      <td>40.792</td>\n",
       "      <td>2594.92</td>\n",
       "      <td>11362.19</td>\n",
       "      <td>1223.12</td>\n",
       "      <td>15750.625</td>\n",
       "      <td>9.3</td>\n",
       "      <td>0.18</td>\n",
       "      <td>92.473958</td>\n",
       "    </tr>\n",
       "    <tr>\n",
       "      <td>1</td>\n",
       "      <td>2010-12-07</td>\n",
       "      <td>40.752</td>\n",
       "      <td>41.477</td>\n",
       "      <td>2598.49</td>\n",
       "      <td>11359.16</td>\n",
       "      <td>1223.75</td>\n",
       "      <td>15750.625</td>\n",
       "      <td>9.3</td>\n",
       "      <td>0.17</td>\n",
       "      <td>92.473958</td>\n",
       "    </tr>\n",
       "    <tr>\n",
       "      <td>2</td>\n",
       "      <td>2010-12-08</td>\n",
       "      <td>41.111</td>\n",
       "      <td>40.950</td>\n",
       "      <td>2609.16</td>\n",
       "      <td>11372.48</td>\n",
       "      <td>1228.28</td>\n",
       "      <td>15750.625</td>\n",
       "      <td>9.3</td>\n",
       "      <td>0.17</td>\n",
       "      <td>92.473958</td>\n",
       "    </tr>\n",
       "    <tr>\n",
       "      <td>3</td>\n",
       "      <td>2010-12-09</td>\n",
       "      <td>40.948</td>\n",
       "      <td>41.293</td>\n",
       "      <td>2616.67</td>\n",
       "      <td>11370.06</td>\n",
       "      <td>1233.00</td>\n",
       "      <td>15750.625</td>\n",
       "      <td>9.3</td>\n",
       "      <td>0.16</td>\n",
       "      <td>92.473958</td>\n",
       "    </tr>\n",
       "    <tr>\n",
       "      <td>4</td>\n",
       "      <td>2010-12-10</td>\n",
       "      <td>41.050</td>\n",
       "      <td>40.935</td>\n",
       "      <td>2637.54</td>\n",
       "      <td>11410.32</td>\n",
       "      <td>1240.40</td>\n",
       "      <td>15750.625</td>\n",
       "      <td>9.3</td>\n",
       "      <td>0.16</td>\n",
       "      <td>92.473958</td>\n",
       "    </tr>\n",
       "    <tr>\n",
       "      <td>...</td>\n",
       "      <td>...</td>\n",
       "      <td>...</td>\n",
       "      <td>...</td>\n",
       "      <td>...</td>\n",
       "      <td>...</td>\n",
       "      <td>...</td>\n",
       "      <td>...</td>\n",
       "      <td>...</td>\n",
       "      <td>...</td>\n",
       "      <td>...</td>\n",
       "    </tr>\n",
       "    <tr>\n",
       "      <td>1742</td>\n",
       "      <td>2017-11-06</td>\n",
       "      <td>173.630</td>\n",
       "      <td>171.750</td>\n",
       "      <td>6786.44</td>\n",
       "      <td>23548.42</td>\n",
       "      <td>2591.13</td>\n",
       "      <td>17764.388</td>\n",
       "      <td>4.2</td>\n",
       "      <td>1.16</td>\n",
       "      <td>104.072282</td>\n",
       "    </tr>\n",
       "    <tr>\n",
       "      <td>1743</td>\n",
       "      <td>2017-11-07</td>\n",
       "      <td>174.180</td>\n",
       "      <td>173.290</td>\n",
       "      <td>6767.78</td>\n",
       "      <td>23557.23</td>\n",
       "      <td>2590.64</td>\n",
       "      <td>17764.388</td>\n",
       "      <td>4.2</td>\n",
       "      <td>1.16</td>\n",
       "      <td>104.072282</td>\n",
       "    </tr>\n",
       "    <tr>\n",
       "      <td>1744</td>\n",
       "      <td>2017-11-08</td>\n",
       "      <td>175.610</td>\n",
       "      <td>174.030</td>\n",
       "      <td>6789.12</td>\n",
       "      <td>23563.36</td>\n",
       "      <td>2594.38</td>\n",
       "      <td>17764.388</td>\n",
       "      <td>4.2</td>\n",
       "      <td>1.16</td>\n",
       "      <td>104.072282</td>\n",
       "    </tr>\n",
       "    <tr>\n",
       "      <td>1745</td>\n",
       "      <td>2017-11-09</td>\n",
       "      <td>175.250</td>\n",
       "      <td>174.480</td>\n",
       "      <td>6750.05</td>\n",
       "      <td>23461.94</td>\n",
       "      <td>2584.62</td>\n",
       "      <td>17764.388</td>\n",
       "      <td>4.2</td>\n",
       "      <td>1.16</td>\n",
       "      <td>104.072282</td>\n",
       "    </tr>\n",
       "    <tr>\n",
       "      <td>1746</td>\n",
       "      <td>2017-11-10</td>\n",
       "      <td>174.670</td>\n",
       "      <td>175.110</td>\n",
       "      <td>6750.94</td>\n",
       "      <td>23422.21</td>\n",
       "      <td>2582.30</td>\n",
       "      <td>17764.388</td>\n",
       "      <td>4.2</td>\n",
       "      <td>1.16</td>\n",
       "      <td>104.072282</td>\n",
       "    </tr>\n",
       "  </tbody>\n",
       "</table>\n",
       "<p>1747 rows × 10 columns</p>\n",
       "</div>"
      ],
      "text/plain": [
       "            Date  AAPL Close Price  AAPL Open Price   NASDAQ      DJIA  \\\n",
       "0     2010-12-06            40.998           40.792  2594.92  11362.19   \n",
       "1     2010-12-07            40.752           41.477  2598.49  11359.16   \n",
       "2     2010-12-08            41.111           40.950  2609.16  11372.48   \n",
       "3     2010-12-09            40.948           41.293  2616.67  11370.06   \n",
       "4     2010-12-10            41.050           40.935  2637.54  11410.32   \n",
       "...          ...               ...              ...      ...       ...   \n",
       "1742  2017-11-06           173.630          171.750  6786.44  23548.42   \n",
       "1743  2017-11-07           174.180          173.290  6767.78  23557.23   \n",
       "1744  2017-11-08           175.610          174.030  6789.12  23563.36   \n",
       "1745  2017-11-09           175.250          174.480  6750.05  23461.94   \n",
       "1746  2017-11-10           174.670          175.110  6750.94  23422.21   \n",
       "\n",
       "      S&P 500  Real GDP ($B)  Unemployment Rate  Interest Rate         CPI  \n",
       "0     1223.12      15750.625                9.3           0.18   92.473958  \n",
       "1     1223.75      15750.625                9.3           0.17   92.473958  \n",
       "2     1228.28      15750.625                9.3           0.17   92.473958  \n",
       "3     1233.00      15750.625                9.3           0.16   92.473958  \n",
       "4     1240.40      15750.625                9.3           0.16   92.473958  \n",
       "...       ...            ...                ...            ...         ...  \n",
       "1742  2591.13      17764.388                4.2           1.16  104.072282  \n",
       "1743  2590.64      17764.388                4.2           1.16  104.072282  \n",
       "1744  2594.38      17764.388                4.2           1.16  104.072282  \n",
       "1745  2584.62      17764.388                4.2           1.16  104.072282  \n",
       "1746  2582.30      17764.388                4.2           1.16  104.072282  \n",
       "\n",
       "[1747 rows x 10 columns]"
      ]
     },
     "execution_count": 14,
     "metadata": {},
     "output_type": "execute_result"
    }
   ],
   "source": [
    "import pandas as pd\n",
    "data = pd.read_csv(\"./project_data.csv\")\n",
    "df = pd.DataFrame(data)\n",
    "df"
   ]
  },
  {
   "cell_type": "markdown",
   "metadata": {},
   "source": [
    "**Exploring Apple's stock price, compared to the NASDAQ**"
   ]
  },
  {
   "cell_type": "code",
   "execution_count": 24,
   "metadata": {
    "scrolled": false
   },
   "outputs": [
    {
     "data": {
      "image/png": "[encoded data removed]",
      "text/plain": [
       "<Figure size 720x432 with 2 Axes>"
      ]
     },
     "metadata": {
      "needs_background": "light"
     },
     "output_type": "display_data"
    }
   ],
   "source": [
    "#Cell may need to be re-run for plot to show!\n",
    "\n",
    "\n",
    "import matplotlib.pyplot as plt\n",
    "import matplotlib.dates as md\n",
    "import seaborn as sns\n",
    "\n",
    "df[\"Date\"] = pd.to_datetime(df[\"Date\"], format = '%Y-%m-%d')\n",
    "\n",
    "fig, ax1 = plt.subplots(figsize=(10,6))\n",
    "ax1.set_title(\"AAPL over NASDAQ\", fontsize=16)\n",
    "ax1 = sns.lineplot(x=\"Date\", y=\"NASDAQ\", data=df, color=\"blue\", label=\"NASDAQ\")\n",
    "ax1.set_ylabel(\"NASDAQ\", fontsize=16)\n",
    "ax1.set_xlabel(\"Date\", fontsize=16)\n",
    "plt.legend(loc='upper center')\n",
    "\n",
    "ax2 = ax1.twinx()\n",
    "ax2 = sns.lineplot(x=\"Date\", y=\"AAPL Close Price\", data=df, color='red', label=\"AAPL\")\n",
    "ax2.set_ylabel(\"AAPL Close Price\", fontsize=16)\n",
    "\n",
    "ax1.tick_params(axis = 'x', which = 'major', length = 10)\n",
    "\n",
    "plt.legend(loc='best')\n",
    "plt.show()"
   ]
  },
  {
   "cell_type": "markdown",
   "metadata": {},
   "source": [
    "*This graph shows that the NASDAQ and AAPL grow and decay at similar relative rates over time*"
   ]
  },
  {
   "cell_type": "markdown",
   "metadata": {},
   "source": [
    "**Exploring the relative change in Apple's stock price over the relative changes in Fed Rates**\n",
    "\n",
    "Note: Percent change in interest rates has been scaled down by a factor of 5 to make it's fluctuations easily comparable to the percent change in AAPL."
   ]
  },
  {
   "cell_type": "code",
   "execution_count": 16,
   "metadata": {},
   "outputs": [
    {
     "data": {
      "text/plain": [
       "<matplotlib.legend.Legend at 0x7fd3d363a4d0>"
      ]
     },
     "execution_count": 16,
     "metadata": {},
     "output_type": "execute_result"
    },
    {
     "data": {
      "image/png": "[encoded data removed]",
      "text/plain": [
       "<Figure size 864x576 with 1 Axes>"
      ]
     },
     "metadata": {
      "needs_background": "light"
     },
     "output_type": "display_data"
    }
   ],
   "source": [
    "plt.subplots(figsize=(12,8))\n",
    "graph1 = sns.lineplot(x=\"Date\", y = df[\"AAPL Close Price\"][::30].pct_change(), data=df, Label=\"% Change APPL\")\n",
    "graph2 = sns.lineplot(x=\"Date\", y = df[\"Interest Rate\"][::30].pct_change()/5, data=df, Label=\"% Change Interest Rate /5\")\n",
    "graph1.set_title(\"Comparing Monthly Change in AAPL price and Fed Interest Rate\", fontsize=16)\n",
    "graph1.set_ylabel(\"% Change per Month\", fontsize=16)\n",
    "graph1.set_xlabel(\"Date\", fontsize=16)\n",
    "plt.legend(loc='best')"
   ]
  },
  {
   "cell_type": "markdown",
   "metadata": {},
   "source": [
    "*As we had lots of data points, we chose to compare the monthly change in AAPL with the Fed rates and it is suprisingly correlated (other than the spike in 2016).*"
   ]
  },
  {
   "cell_type": "markdown",
   "metadata": {},
   "source": [
    "**Exploring Weekly Percent Change in AAPL price against Weekly Percent Change in NASDAQ**"
   ]
  },
  {
   "cell_type": "code",
   "execution_count": 17,
   "metadata": {},
   "outputs": [
    {
     "data": {
      "image/png": "[encoded data removed]",
      "text/plain": [
       "<Figure size 864x576 with 1 Axes>"
      ]
     },
     "metadata": {
      "needs_background": "light"
     },
     "output_type": "display_data"
    }
   ],
   "source": [
    "import numpy as np\n",
    "from scipy import stats\n",
    "\n",
    "plt.subplots(figsize=(12,8))\n",
    "plot = sns.regplot(x=df[\"NASDAQ\"][::7].pct_change(), y=df[\"AAPL Close Price\"][::7].pct_change(), data=df)\n",
    "plot.set_title(\"Comparing Weekly Change in AAPL price and Weekly Change in NASDAQ\", fontsize=16)\n",
    "plot.set_ylabel(\"% Change per Month (AAPL)\", fontsize=16)\n",
    "plot.set_xlabel(\"% Change per Month (NASDAQ)\", fontsize=16)\n",
    "plt.show()"
   ]
  },
  {
   "cell_type": "markdown",
   "metadata": {},
   "source": [
    "*This graph shows that the weekly change in AAPL versus the NASDAQ has a moderate correlation, indicating that one feature affects another*"
   ]
  },
  {
   "cell_type": "markdown",
   "metadata": {},
   "source": [
    "### 3.3. Model Construction"
   ]
  },
  {
   "cell_type": "code",
   "execution_count": 18,
   "metadata": {},
   "outputs": [],
   "source": [
    "# creates a dictionary of all the estimators\n",
    "from sklearn.linear_model import Ridge\n",
    "from sklearn.linear_model import Lasso\n",
    "from sklearn.linear_model import LinearRegression\n",
    "from sklearn.neighbors import KNeighborsRegressor\n",
    "from sklearn.svm import SVR\n",
    "from sklearn.metrics import r2_score\n",
    "from sklearn.naive_bayes import GaussianNB\n",
    "from sklearn.tree import DecisionTreeClassifier\n",
    "\n",
    "estimators = {'Multiple Linear Regression': LinearRegression(), 'Ridge': Ridge(), 'Lasso': Lasso(), \n",
    "              'Support Vector Machine': SVR(max_iter=1000000)}"
   ]
  },
  {
   "cell_type": "code",
   "execution_count": 19,
   "metadata": {},
   "outputs": [],
   "source": [
    "from sklearn.model_selection import train_test_split\n",
    "\n",
    "def classifiers_percentage_split(X_train_selected, X_test_selected, y_train, y_test):\n",
    "    for i in estimators:\n",
    "        estimators[i].fit(X=X_train_selected, y = y_train)\n",
    "        r2 = estimators[i].score(X_test_selected,y_test)\n",
    "        r2_train = estimators[i].score(X_train_selected,y_train)\n",
    "        print(\"\\t\" + i+\":\")\n",
    "        print(\"\\t\\t\" + \"R2 on the train data: \", r2_train,  \"\\n\" + \"\\t\\t\"+\"R2 on the test data: \", r2)"
   ]
  },
  {
   "cell_type": "code",
   "execution_count": 20,
   "metadata": {
    "scrolled": true
   },
   "outputs": [
    {
     "name": "stdout",
     "output_type": "stream",
     "text": [
      "RESULTS:\n",
      "\tMultiple Linear Regression:\n",
      "\t\tR2 on the train data:  0.9242281331626904 \n",
      "\t\tR2 on the test data:  0.9226664306849264\n",
      "\tRidge:\n",
      "\t\tR2 on the train data:  0.9242216360347373 \n",
      "\t\tR2 on the test data:  0.9227152305374344\n",
      "\tLasso:\n",
      "\t\tR2 on the train data:  0.9066879964858012 \n",
      "\t\tR2 on the test data:  0.9111649083698861\n",
      "\tSupport Vector Machine:\n",
      "\t\tR2 on the train data:  0.6327810667182933 \n",
      "\t\tR2 on the test data:  0.6213257551424368\n"
     ]
    }
   ],
   "source": [
    "print(\"RESULTS:\")\n",
    "classifiers_percentage_split(X_train_selected, X_test_selected, y_train, y_test)"
   ]
  },
  {
   "cell_type": "markdown",
   "metadata": {},
   "source": [
    "Above, we test our hypothesis of identifying whether or not there is a correlation. We set a benchmark of 0.8 for the correlation metric (R-squared). The other null hypothesis that SVM have the best accuracy was also tested here and clearly was proven to be false."
   ]
  },
  {
   "cell_type": "markdown",
   "metadata": {},
   "source": [
    "### 3.4. Model Evaluation"
   ]
  },
  {
   "cell_type": "markdown",
   "metadata": {},
   "source": [
    "**Best Model Performance**\n",
    "\n",
    "The Ridge Regression algorithm produced the most prediction accuracy for the testing data. The R-squared value of 0.92271 indicates a very high goodness-of-fit. The Multiple Linear Regression (MLR) model also produced a very high testing accuracy with an R-squared value just below that of Ridge. MLR had a testing R-squared of 0.92266 which also indicates a good fit for the dataset.\n",
    "\n",
    "**Worst Model Performance**\n",
    "\n",
    "The Support Vector Machine (SVM) algorithm produced the worst prediction accuracy for the testing data. It's R-squared value for the test set was 0.62132. Although this R-squared value is relatively low, objectively, this model also fits the data well. The Lasso model also was lower than Ridge and MLR, but it still performed well with an R-sqaured of 0.91116.\n",
    "\n",
    "**Overall Performance**\n",
    "\n",
    "All four estimators (MLR, Ridge, Lasso, and SVM) performed well (R-square > 0.6) on the data. Additionally, the difference between the accuracy metric for the training versus the testing data was  roughly 1% or less for all estimators indicating that none of the models were overfitted or underfitted. The fit of these models can be attributed to the selection of features from section 3.1 above.\n",
    "\n",
    "**Hypotheses**\n",
    "\n",
    "- **Project Hypothesis**\n",
    "    - H0: The closing price of AAPL and macroeconomic data have no relationship.\n",
    "    - H1: The closing price of AAPL and macroeconomic data have a relationship.\n",
    "    - **Evaluation**\n",
    "    When we created our hypotheses, we assumed that AAPL's price had no correlation to macroeconomic data. Prior to running the selected algorithms, however, we knew that the closing price of AAPL and macroeconomic data have some sort of correlation. This is evidenced by the three graphs in section 3.2. As the NASDAQ grew, for example, so did AAPL's price. An additional correlation with Intetest Rates was identified by the second graph. After running the regression algorithms, we quickly determined that the relationship between our features and target must be strong, as the first three linear models (MLR, Ridge, and Lasso) all had an impressive accuracy as evidenced by R-squared values which were between 0.9 and 1. Based on this metric, we have rejected the null hypothesis. There is evidence of a relationship between the closing price of AAPL and macroeconomic data.\n",
    "    \n",
    "   \n",
    "- **Tests Hypothesis**\n",
    "    - H0: Support Vector Regression will have the highest prediction accuracy.\n",
    "    - H1: Support Vector Regression will not have the highest prediction accuracy.\n",
    "    - **Evaluation**\n",
    "    Based on research, we had believed that Support Vector Machines (SVM) would have the best predictiveness. This was based on the infographic from sklearn - https://scikit-learn.org/stable/tutorial/machine_learning_map/.\n",
    "    Also, we thought SVM were widely accepted to be the best linear regression model, however we saw better accuracy with the other three main linear models. In fact, Support Vector Regression provided the least accurate results, hence we have rejected the null hypothesis. We have found evidence that Support Vector Regression does not have the highest predictive accuracy."
   ]
  },
  {
   "cell_type": "markdown",
   "metadata": {},
   "source": [
    "### 3.5. Model Optimization"
   ]
  },
  {
   "cell_type": "code",
   "execution_count": 21,
   "metadata": {},
   "outputs": [],
   "source": [
    "param_grid_ridge = {'alpha':[.001, .01, .1, 1, 10, 100]}\n",
    "param_grid_mlr = {'normalize':[True, False]}"
   ]
  },
  {
   "cell_type": "code",
   "execution_count": 22,
   "metadata": {},
   "outputs": [
    {
     "name": "stdout",
     "output_type": "stream",
     "text": [
      "Model Optimization for our features\n",
      "____________________________________\n",
      "\n",
      "Ridge\n",
      "\tBest cross-validation score:  0.9230926238264174\n",
      "\tBest parameters:  {'alpha': 0.1} \n",
      "\n",
      "Multiple Linear Regression\n",
      "\tBest cross-validation score:  0.9230924119120779\n",
      "\tBest parameters:  {'normalize': False} \n",
      "\n",
      "Lasso\n",
      "\tBest cross-validation score:  0.9230923731994073\n",
      "\tBest parameters:  {'alpha': 0.001}\n"
     ]
    }
   ],
   "source": [
    "from sklearn.model_selection import GridSearchCV\n",
    "print(\"Model Optimization for our features\\n____________________________________\\n\")\n",
    "alpha_dict = {}\n",
    "grid_search_ridge = GridSearchCV(Ridge(), param_grid_ridge, cv=5)\n",
    "grid_search_mlr = GridSearchCV(LinearRegression(), param_grid_mlr, cv=5)\n",
    "grid_search_lasso = GridSearchCV(Lasso(), param_grid_ridge, cv=5)\n",
    "#fit the grid search object on the training data (CV will be performed on this)\n",
    "grid_search_ridge.fit(X=X_train_selected, y=y_train)\n",
    "grid_search_mlr.fit(X=X_train_selected, y=y_train)\n",
    "grid_search_lasso.fit(X=X_train_selected, y=y_train)\n",
    "\n",
    "#this is the best performance during training\n",
    "print(\"Ridge\")\n",
    "print(\"\\tBest cross-validation score: \", grid_search_ridge.best_score_)\n",
    "#result of grid search\n",
    "print(\"\\tBest parameters: \", grid_search_ridge.best_params_, \"\\n\")\n",
    "alpha_dict[\"Ridge\"] = grid_search_ridge.best_params_\n",
    "\n",
    "print(\"Multiple Linear Regression\")\n",
    "print(\"\\tBest cross-validation score: \", grid_search_mlr.best_score_)\n",
    "#result of grid search\n",
    "print(\"\\tBest parameters: \", grid_search_mlr.best_params_, \"\\n\")\n",
    "alpha_dict[\"Multiple Linear Regression\"] = grid_search_mlr.best_params_\n",
    "\n",
    "print(\"Lasso\")\n",
    "print(\"\\tBest cross-validation score: \", grid_search_lasso.best_score_)\n",
    "#result of grid search\n",
    "print(\"\\tBest parameters: \", grid_search_lasso.best_params_)\n",
    "alpha_dict[\"Lasso\"] = grid_search_lasso.best_params_"
   ]
  },
  {
   "cell_type": "markdown",
   "metadata": {},
   "source": [
    "The reason we performed hyperparameter tuning was to ensure that we were not overfitting the model. Ideally, the hyperparameter tuning would give us better accuracy, but in our case, it appeared that the tuning decreased the accuracy by roughly 2%. We are fine with this, as we believe our data was overfitting since the NASDAQ and AAPL price empirically relate to each other in the real world."
   ]
  },
  {
   "cell_type": "markdown",
   "metadata": {},
   "source": [
    "### 3.6. Model Testing"
   ]
  },
  {
   "cell_type": "code",
   "execution_count": 23,
   "metadata": {
    "scrolled": true
   },
   "outputs": [
    {
     "name": "stdout",
     "output_type": "stream",
     "text": [
      "Testing with Tuned Algorithms\n",
      "____________________\n",
      "\n",
      "Multiple Linear Regression :\n",
      "\tR-squared value for training set:  0.9242281331626904\n",
      "\tR-squared value for testing set:  0.9226664306849264 \n",
      "\n",
      "Ridge (with tuned alpha of: 0.1):\n",
      "\tR-squared value for training set:  0.9242280662437747\n",
      "\tR-squared value for testing set:  0.9226718994091669 \n",
      "\n",
      "Lasso (with tuned alpha of: 0.001):\n",
      "\tR-squared value for training set:  0.9242281055833448\n",
      "\tR-squared value for testing set:  0.9226684862200906 \n",
      "\n"
     ]
    }
   ],
   "source": [
    "tested_estimators = {\n",
    "    'Multiple Linear Regression': LinearRegression(), \n",
    "    'Ridge': Ridge(), 'Lasso': Lasso()}\n",
    "\n",
    "print(\"Testing with Tuned Algorithms\\n____________________\\n\")\n",
    "\n",
    "for name, method in tested_estimators.items():\n",
    "    if(name == 'Ridge'):\n",
    "        alpha = alpha_dict.get('Ridge').get('alpha')\n",
    "        print(name, \"(with tuned alpha of:\", str(alpha) + \"):\")\n",
    "        model = method.set_params(alpha=alpha).fit(X=X_train_selected, y=y_train)\n",
    "    if(name == 'Lasso'):\n",
    "        alpha = alpha_dict.get('Lasso').get('alpha')\n",
    "        print(name, \"(with tuned alpha of:\", str(alpha) + \"):\")\n",
    "        model = method.set_params(alpha=alpha).fit(X=X_train_selected, y=y_train)\n",
    "        \n",
    "    elif(name == \"Multiple Linear Regression\"): \n",
    "         print(name,':')\n",
    "         model = method.fit(X=X_train_selected, y=y_train)\n",
    "    \n",
    "    print(\"\\tR-squared value for training set: \", r2_score(y_train, model.predict(X_train_selected)))\n",
    "    print(\"\\tR-squared value for testing set: \", r2_score(y_test, model.predict(X_test_selected)),'\\n')"
   ]
  },
  {
   "cell_type": "markdown",
   "metadata": {},
   "source": [
    "<a id=\"4\"></a>\n",
    "<hr style=\"height:2px; border:none; color:black; background-color:black;\">"
   ]
  },
  {
   "cell_type": "markdown",
   "metadata": {},
   "source": [
    "## 4. DISCUSSION"
   ]
  },
  {
   "cell_type": "markdown",
   "metadata": {},
   "source": [
    "### Analysis\n",
    "\n",
    "**Summary**\n",
    "\n",
    "Our analysis included separating our data into various feature variables, which were various economic indicators \n",
    "as well as stock market statistics, and our target variable the closing price of APPL. We created a DataFrame \n",
    "that contained all the features and the target variables for training and testing. Then, we analyzed and \n",
    "visualized the relationships between the features and the target variables. This helped us visually interpret \n",
    "the relationship of certain economic indicators and financial statistics in regard to the closing price of APPL. \n",
    "While running the regression models, for the supervised machine learning task, we implemented four regression \n",
    "models: Multiple Linear Regression, Ridge, Lasso and Support Vector Machine. After implementing each \n",
    "of the models, we identified the best performing models and optimized the models. We used Grid Search to \n",
    "find the best performing alpha for each of the regression algorithms.  This allows it so that we are not \n",
    "overfitting the data. We then concluded the analysis by testing the tuned algorithm resulting in a high \n",
    "predictive accuracy of around 0.92. "
   ]
  },
  {
   "cell_type": "markdown",
   "metadata": {},
   "source": [
    "### Interpretation\n",
    "\n",
    "**Algorithms used:**\n",
    "- Multiple Linear Regression\n",
    "- Ridge\n",
    "- Lasso\n",
    "- Support Vector Machine (Regression)\n",
    "\n",
    "In order to determine which algorithm to use to predict the close price of Apple's stock, we followed these steps:\n",
    "\n",
    "1. Scaled the data\n",
    "2. Selected the most relevant and correlated features\n",
    "3. Applied each estimator to the training set and tested the model with the testing set\n",
    "4. Tested different alpha parameters for Ridge() and T/F normalization on the MLR model\n",
    "5. Retested each algorithm with the new parameters\n",
    "\n",
    "**Results**\n",
    "\n",
    "After completing the above steps, the Ridge regression with an alpha level of 0.1 had the best accuracy based off of its R-squared value of 0.92267. However, Multiple Linear Regression and Lasso both had testing accuracy within 0.001% which makes sense, as they are simply variations of the linear regression. We have decided that we should use Ridge Regression as the algorithm to predict the close price of Apple's stock (AAPL).\n",
    "\n",
    "We are confident that we can predict the close stock price of AAPL by using the features of NASDAQ Composite, Real GDP, Unemployment Rate, and Consumer Price Index. However, realistically, in order to be confident that we'd make money the accuracy rate would need to be a little higher. In the stock market, being 8% off a price target (100-92%) is a significant difference which can lose an investor money. However, we could just as easily be 8% lower on a price target and make money with the same probability of losing money.\n",
    "\n",
    "**Evaluating Hypotheses**\n",
    "\n",
    "    - H0: The closing price of AAPL and macroeconomic data have no relationship.\n",
    "    - H1: The closing price of AAPL and macroeconomic data have a relationship.\n",
    "    - We have rejected the null hypothesis. There is evidence of a relationship between the closing price of AAPL and macroeconomic data.\n",
    "    \n",
    "    - H0: Support Vector Regression will have the highest prediction accuracy.\n",
    "    - H1: Support Vector Regression will not have the highest prediction accuracy.\n",
    "    - We have rejected the null hypothesis. We have found evidence that Support Vector Regression does not have the highest predictive accuracy.\n",
    "    \n",
    "   \n",
    "*In-depth explainations for each hypothesis and reasoning for rejecting each can be found in 3.4 above*\n",
    "\n",
    "### Future Work\n",
    "\n",
    "There are several things that we can do to make this project better and more useful in the future. Considering that there are many quantitative finance libraries such as quantlib or quantpy which we could use to get and perform operations with different financial data, and also facilitate backtesting allowing us to test our model against historical stocks in a more tried and true and thorough way. Lastly it would also be worthwhile to look at different economic indicators as well, such as the price of crude oil, alternatively FRED also has many variations of the indicators that we have such as the consumer price index for all urban consumers in the united states. Upon finishing this project we have many more avenues to pursue.\n",
    "\n",
    "### Conclusion\n",
    "\n",
    "To conclude, using the economic indicators that we received from FRED and the stock indexes, we split our main dataset into training and testing sets, scaled the features using MinMaxScalar and used the RFE feature selection algorithm to select the most suitable features to use for our model. We then tested out model using ou r chosen regression algorithms. We then optimized our model and tested again. We ended up with a reasonably accurate score with Multiple linear regression, Ridge regression, and Lasso regression. It is worth noting however that these results may be skewed because the AAPL stock is part of the NASDAQ composite, this definitely contributes to the accuracy being high.\n",
    "\n",
    "Through our analysis above we have been successful in exploring how economic indicators affect the stock price of the AAPL stock."
   ]
  },
  {
   "cell_type": "markdown",
   "metadata": {},
   "source": [
    "<a id=\"5\"></a>\n",
    "<hr style=\"height:2px; border:none; color:black; background-color:black;\">"
   ]
  },
  {
   "cell_type": "markdown",
   "metadata": {},
   "source": [
    "### CONTRIBUTIONS\n",
    "* Describe each team member's contributions to the report (who did what in each section)\n",
    "* Remember this is a team effort!\n",
    "* Each member of your team will provide peer evaluation of other team members. Your final grade on the project will be based on those peer evaluations. A survey will be shared after the deadline for this deliverable."
   ]
  },
  {
   "cell_type": "markdown",
   "metadata": {},
   "source": [
    "Gary Shetye:\n",
    "- I brought the data from FRED and Kaggle into one dataframe early on in the project (Data Acquisition). Hence, I wrote section 2.1. Since I was very familiar with the data, I also wrote up section 2.2 (Data Analysis) on what the data means and how it is structured, as well as the hypotheses. I then created the three data visualizations for section 3.2. After Harris and Mahin did hyperparameter tuning, I added normalization/not normalization to the hyperparamter tuning. For the discussion section (Section 4), I wrote up the interpretation of the results. I also formatted the final notebook.\n",
    "\n",
    "Harris Lussenhop:\n",
    "- I completed the data analysis part of section 2 (section 2.3), I completed the Data Wrangling part of Section 3 (Section 3.1) I also completed the future work and conclusion paragraphs in section 4. I also contributed to the work done in the Model Construction, Model Evaluation, and Model testing parts of section 3 (sections 3.3, 3.5, and 3.6).\n",
    "\n",
    "Mahin Master:\n",
    "-  I completed the introduction (Section 1) and model evaluation (Section 3.4). Harris and I both completed the model optimization together (Section 3.5). Harris and I worked primarily on hyper-tuning the model. I also wrote the analysis for the report including the executive summary and conclusion."
   ]
  },
  {
   "cell_type": "code",
   "execution_count": null,
   "metadata": {},
   "outputs": [],
   "source": []
  }
 ],
 "metadata": {
  "kernelspec": {
   "display_name": "Python 3",
   "language": "python",
   "name": "python3"
  },
  "language_info": {
   "codemirror_mode": {
    "name": "ipython",
    "version": 3
   },
   "file_extension": ".py",
   "mimetype": "text/x-python",
   "name": "python",
   "nbconvert_exporter": "python",
   "pygments_lexer": "ipython3",
   "version": "3.7.4"
  }
 },
 "nbformat": 4,
 "nbformat_minor": 2
}
